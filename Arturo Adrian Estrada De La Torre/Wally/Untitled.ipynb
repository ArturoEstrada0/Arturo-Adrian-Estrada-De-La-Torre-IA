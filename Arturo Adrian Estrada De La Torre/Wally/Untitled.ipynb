{
 "cells": [
  {
   "cell_type": "markdown",
   "id": "6e54c4d9",
   "metadata": {},
   "source": [
    "# PRUEBA WALLY 1"
   ]
  },
  {
   "cell_type": "code",
   "execution_count": null,
   "id": "ddb52b1f",
   "metadata": {},
   "outputs": [],
   "source": []
  },
  {
   "cell_type": "code",
   "execution_count": 1,
   "id": "5c42ccc1",
   "metadata": {},
   "outputs": [],
   "source": [
    "# PONER A PRUEBA IMAGENES DE WALLY\n",
    "\n",
    "## Imagen 1\n",
    "\n",
    "\n",
    "import numpy as np\n",
    "import cv2 as cv\n",
    "\n",
    "# Carga la Imagen\n",
    "image = cv.imread(r'C:\\Users\\r2rit\\IA PROYECTOS\\wally3\\PruebasWally\\Pruebas\\WallyNieve10.jpg')\n",
    "\n",
    "gray = cv.cvtColor(image, cv.COLOR_BGR2GRAY)\n",
    "\n",
    "# Carga el xml\n",
    "wally = cv.CascadeClassifier(r'C:\\Users\\r2rit\\IA PROYECTOS\\wally3\\classifier\\cascade.xml')\n",
    "\n",
    "# Parametros para detectar a wally\n",
    "wally_detections = wally.detectMultiScale(gray, scaleFactor=1.09, minNeighbors=50, minSize=(20,20))\n",
    "\n",
    "# Dibuja Rectangulos y pone el texto\n",
    "for (x, y, w, h) in wally_detections:\n",
    "    cv.rectangle(image, (x, y), (x + w, y + h), (0, 255, 0), 2)\n",
    "    cv.putText(image, 'Wally', (x, y - 10), cv.FONT_HERSHEY_SIMPLEX, 0.9, (0, 255, 0), 2)\n",
    "\n",
    "# Muestra el resultado\n",
    "cv.imshow('Donde esta Wally?', image)\n",
    "cv.waitKey(0)\n",
    "cv.destroyAllWindows()"
   ]
  },
  {
   "cell_type": "code",
   "execution_count": null,
   "id": "8e2607a6",
   "metadata": {},
   "outputs": [],
   "source": []
  }
 ],
 "metadata": {
  "kernelspec": {
   "display_name": "Python 3 (ipykernel)",
   "language": "python",
   "name": "python3"
  },
  "language_info": {
   "codemirror_mode": {
    "name": "ipython",
    "version": 3
   },
   "file_extension": ".py",
   "mimetype": "text/x-python",
   "name": "python",
   "nbconvert_exporter": "python",
   "pygments_lexer": "ipython3",
   "version": "3.11.5"
  }
 },
 "nbformat": 4,
 "nbformat_minor": 5
}
